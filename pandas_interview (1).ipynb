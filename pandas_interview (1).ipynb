{
 "cells": [
  {
   "cell_type": "code",
   "execution_count": 2,
   "id": "aaf33abc-1ad8-4dee-8656-79e4111d1876",
   "metadata": {},
   "outputs": [],
   "source": [
    "import pandas as pd"
   ]
  },
  {
   "cell_type": "code",
   "execution_count": 12,
   "id": "48779c0e-c777-4af1-a662-a9ed7506a14a",
   "metadata": {},
   "outputs": [
    {
     "data": {
      "text/html": [
       "<div>\n",
       "<style scoped>\n",
       "    .dataframe tbody tr th:only-of-type {\n",
       "        vertical-align: middle;\n",
       "    }\n",
       "\n",
       "    .dataframe tbody tr th {\n",
       "        vertical-align: top;\n",
       "    }\n",
       "\n",
       "    .dataframe thead th {\n",
       "        text-align: right;\n",
       "    }\n",
       "</style>\n",
       "<table border=\"1\" class=\"dataframe\">\n",
       "  <thead>\n",
       "    <tr style=\"text-align: right;\">\n",
       "      <th></th>\n",
       "      <th>Name</th>\n",
       "      <th>Age</th>\n",
       "      <th>Location</th>\n",
       "    </tr>\n",
       "  </thead>\n",
       "  <tbody>\n",
       "    <tr>\n",
       "      <th>0</th>\n",
       "      <td>keerthana</td>\n",
       "      <td>23</td>\n",
       "      <td>chennai</td>\n",
       "    </tr>\n",
       "    <tr>\n",
       "      <th>1</th>\n",
       "      <td>bhoomika</td>\n",
       "      <td>44</td>\n",
       "      <td>hydrabed</td>\n",
       "    </tr>\n",
       "    <tr>\n",
       "      <th>2</th>\n",
       "      <td>bhoomika</td>\n",
       "      <td>32</td>\n",
       "      <td>bengalore</td>\n",
       "    </tr>\n",
       "    <tr>\n",
       "      <th>3</th>\n",
       "      <td>hari</td>\n",
       "      <td>22</td>\n",
       "      <td>delhi</td>\n",
       "    </tr>\n",
       "  </tbody>\n",
       "</table>\n",
       "</div>"
      ],
      "text/plain": [
       "        Name  Age   Location\n",
       "0  keerthana   23    chennai\n",
       "1   bhoomika   44   hydrabed\n",
       "2   bhoomika   32  bengalore\n",
       "3       hari   22      delhi"
      ]
     },
     "execution_count": 12,
     "metadata": {},
     "output_type": "execute_result"
    }
   ],
   "source": [
    "data = {\"Name\":[\"keerthana\",\"bhoomika\",\"bhoomika\",\"hari\"],\n",
    "        \"Age\":[23,44,32,22],\n",
    "        \"Location\":[\"chennai\",\"hydrabed\",\"bengalore\",\"delhi\"]}\n",
    "df = pd.DataFrame(data)\n",
    "df"
   ]
  },
  {
   "cell_type": "code",
   "execution_count": 4,
   "id": "621a049a-4e42-43b4-8966-4b8d106b2492",
   "metadata": {},
   "outputs": [
    {
     "data": {
      "text/html": [
       "<div>\n",
       "<style scoped>\n",
       "    .dataframe tbody tr th:only-of-type {\n",
       "        vertical-align: middle;\n",
       "    }\n",
       "\n",
       "    .dataframe tbody tr th {\n",
       "        vertical-align: top;\n",
       "    }\n",
       "\n",
       "    .dataframe thead th {\n",
       "        text-align: right;\n",
       "    }\n",
       "</style>\n",
       "<table border=\"1\" class=\"dataframe\">\n",
       "  <thead>\n",
       "    <tr style=\"text-align: right;\">\n",
       "      <th></th>\n",
       "      <th>Name</th>\n",
       "      <th>Age</th>\n",
       "      <th>Location</th>\n",
       "    </tr>\n",
       "  </thead>\n",
       "  <tbody>\n",
       "    <tr>\n",
       "      <th>0</th>\n",
       "      <td>keerthana</td>\n",
       "      <td>23</td>\n",
       "      <td>chennai</td>\n",
       "    </tr>\n",
       "    <tr>\n",
       "      <th>1</th>\n",
       "      <td>bhoomika</td>\n",
       "      <td>44</td>\n",
       "      <td>hydrabed</td>\n",
       "    </tr>\n",
       "    <tr>\n",
       "      <th>2</th>\n",
       "      <td>latha</td>\n",
       "      <td>32</td>\n",
       "      <td>bengalore</td>\n",
       "    </tr>\n",
       "  </tbody>\n",
       "</table>\n",
       "</div>"
      ],
      "text/plain": [
       "        Name  Age   Location\n",
       "0  keerthana   23    chennai\n",
       "1   bhoomika   44   hydrabed\n",
       "2      latha   32  bengalore"
      ]
     },
     "execution_count": 4,
     "metadata": {},
     "output_type": "execute_result"
    }
   ],
   "source": [
    "df.head(3)"
   ]
  },
  {
   "cell_type": "code",
   "execution_count": 8,
   "id": "1f4e81f6-888e-4759-bb42-bc3283802718",
   "metadata": {},
   "outputs": [
    {
     "data": {
      "text/html": [
       "<div>\n",
       "<style scoped>\n",
       "    .dataframe tbody tr th:only-of-type {\n",
       "        vertical-align: middle;\n",
       "    }\n",
       "\n",
       "    .dataframe tbody tr th {\n",
       "        vertical-align: top;\n",
       "    }\n",
       "\n",
       "    .dataframe thead th {\n",
       "        text-align: right;\n",
       "    }\n",
       "</style>\n",
       "<table border=\"1\" class=\"dataframe\">\n",
       "  <thead>\n",
       "    <tr style=\"text-align: right;\">\n",
       "      <th></th>\n",
       "      <th>Name</th>\n",
       "      <th>Age</th>\n",
       "      <th>Location</th>\n",
       "      <th>amount</th>\n",
       "    </tr>\n",
       "  </thead>\n",
       "  <tbody>\n",
       "    <tr>\n",
       "      <th>2</th>\n",
       "      <td>latha</td>\n",
       "      <td>32</td>\n",
       "      <td>bengalore</td>\n",
       "      <td>223</td>\n",
       "    </tr>\n",
       "    <tr>\n",
       "      <th>3</th>\n",
       "      <td>hari</td>\n",
       "      <td>22</td>\n",
       "      <td>delhi</td>\n",
       "      <td>354</td>\n",
       "    </tr>\n",
       "  </tbody>\n",
       "</table>\n",
       "</div>"
      ],
      "text/plain": [
       "    Name  Age   Location  amount\n",
       "2  latha   32  bengalore     223\n",
       "3   hari   22      delhi     354"
      ]
     },
     "execution_count": 8,
     "metadata": {},
     "output_type": "execute_result"
    }
   ],
   "source": [
    "df.tail(2)"
   ]
  },
  {
   "cell_type": "code",
   "execution_count": 29,
   "id": "76154154-fd32-47fb-b945-049e8be8a810",
   "metadata": {},
   "outputs": [],
   "source": [
    "df[\"amount\"] = [205,345,223,354]"
   ]
  },
  {
   "cell_type": "code",
   "execution_count": 17,
   "id": "14d6e9b2-9304-4054-8a15-30d661165876",
   "metadata": {},
   "outputs": [
    {
     "data": {
      "text/html": [
       "<div>\n",
       "<style scoped>\n",
       "    .dataframe tbody tr th:only-of-type {\n",
       "        vertical-align: middle;\n",
       "    }\n",
       "\n",
       "    .dataframe tbody tr th {\n",
       "        vertical-align: top;\n",
       "    }\n",
       "\n",
       "    .dataframe thead th {\n",
       "        text-align: right;\n",
       "    }\n",
       "</style>\n",
       "<table border=\"1\" class=\"dataframe\">\n",
       "  <thead>\n",
       "    <tr style=\"text-align: right;\">\n",
       "      <th></th>\n",
       "      <th>Name</th>\n",
       "      <th>amount</th>\n",
       "    </tr>\n",
       "  </thead>\n",
       "  <tbody>\n",
       "    <tr>\n",
       "      <th>0</th>\n",
       "      <td>bhoomika</td>\n",
       "      <td>568</td>\n",
       "    </tr>\n",
       "    <tr>\n",
       "      <th>1</th>\n",
       "      <td>hari</td>\n",
       "      <td>354</td>\n",
       "    </tr>\n",
       "    <tr>\n",
       "      <th>2</th>\n",
       "      <td>keerthana</td>\n",
       "      <td>205</td>\n",
       "    </tr>\n",
       "  </tbody>\n",
       "</table>\n",
       "</div>"
      ],
      "text/plain": [
       "        Name  amount\n",
       "0   bhoomika     568\n",
       "1       hari     354\n",
       "2  keerthana     205"
      ]
     },
     "execution_count": 17,
     "metadata": {},
     "output_type": "execute_result"
    }
   ],
   "source": [
    "sd = df.groupby(\"Name\")[\"amount\"].sum().reset_index()\n",
    "sd"
   ]
  },
  {
   "cell_type": "code",
   "execution_count": 30,
   "id": "2e35c93b-bbfb-460b-8d57-1788d4d46948",
   "metadata": {},
   "outputs": [
    {
     "data": {
      "text/html": [
       "<div>\n",
       "<style scoped>\n",
       "    .dataframe tbody tr th:only-of-type {\n",
       "        vertical-align: middle;\n",
       "    }\n",
       "\n",
       "    .dataframe tbody tr th {\n",
       "        vertical-align: top;\n",
       "    }\n",
       "\n",
       "    .dataframe thead th {\n",
       "        text-align: right;\n",
       "    }\n",
       "</style>\n",
       "<table border=\"1\" class=\"dataframe\">\n",
       "  <thead>\n",
       "    <tr style=\"text-align: right;\">\n",
       "      <th></th>\n",
       "      <th>Name</th>\n",
       "      <th>Age</th>\n",
       "      <th>Location</th>\n",
       "      <th>amount</th>\n",
       "    </tr>\n",
       "  </thead>\n",
       "  <tbody>\n",
       "    <tr>\n",
       "      <th>0</th>\n",
       "      <td>keerthana</td>\n",
       "      <td>23</td>\n",
       "      <td>chennai</td>\n",
       "      <td>205</td>\n",
       "    </tr>\n",
       "    <tr>\n",
       "      <th>1</th>\n",
       "      <td>bhoomika</td>\n",
       "      <td>44</td>\n",
       "      <td>hydrabed</td>\n",
       "      <td>345</td>\n",
       "    </tr>\n",
       "    <tr>\n",
       "      <th>2</th>\n",
       "      <td>bhoomika</td>\n",
       "      <td>32</td>\n",
       "      <td>bengalore</td>\n",
       "      <td>223</td>\n",
       "    </tr>\n",
       "    <tr>\n",
       "      <th>3</th>\n",
       "      <td>hari</td>\n",
       "      <td>22</td>\n",
       "      <td>delhi</td>\n",
       "      <td>354</td>\n",
       "    </tr>\n",
       "  </tbody>\n",
       "</table>\n",
       "</div>"
      ],
      "text/plain": [
       "        Name  Age   Location  amount\n",
       "0  keerthana   23    chennai     205\n",
       "1   bhoomika   44   hydrabed     345\n",
       "2   bhoomika   32  bengalore     223\n",
       "3       hari   22      delhi     354"
      ]
     },
     "execution_count": 30,
     "metadata": {},
     "output_type": "execute_result"
    }
   ],
   "source": [
    "df"
   ]
  },
  {
   "cell_type": "code",
   "execution_count": 31,
   "id": "8498299e-3ace-4adc-bc96-c866a008f55c",
   "metadata": {},
   "outputs": [],
   "source": [
    "df.drop(\"amount\",axis=1,inplace=True)"
   ]
  },
  {
   "cell_type": "code",
   "execution_count": null,
   "id": "960847fe-5815-4fe7-a2a7-e047391f533b",
   "metadata": {},
   "outputs": [],
   "source": [
    "df3 = df.dropna(how=\"all\") #Remove row only if all values are Nan"
   ]
  },
  {
   "cell_type": "code",
   "execution_count": 34,
   "id": "43d2e797-ffc7-4602-9076-ce36536ead43",
   "metadata": {},
   "outputs": [],
   "source": [
    "sdc = df.drop_duplicates(subset=\"Name\",axis=1,inplace=True)  #you don't know anything while coding use shift+Tab\n",
    "sdc"
   ]
  },
  {
   "cell_type": "code",
   "execution_count": 35,
   "id": "82bc3980-0be5-4baf-a312-67e4480e4f89",
   "metadata": {},
   "outputs": [
    {
     "data": {
      "text/html": [
       "<div>\n",
       "<style scoped>\n",
       "    .dataframe tbody tr th:only-of-type {\n",
       "        vertical-align: middle;\n",
       "    }\n",
       "\n",
       "    .dataframe tbody tr th {\n",
       "        vertical-align: top;\n",
       "    }\n",
       "\n",
       "    .dataframe thead th {\n",
       "        text-align: right;\n",
       "    }\n",
       "</style>\n",
       "<table border=\"1\" class=\"dataframe\">\n",
       "  <thead>\n",
       "    <tr style=\"text-align: right;\">\n",
       "      <th></th>\n",
       "      <th>Name</th>\n",
       "      <th>Age</th>\n",
       "      <th>Location</th>\n",
       "    </tr>\n",
       "  </thead>\n",
       "  <tbody>\n",
       "    <tr>\n",
       "      <th>0</th>\n",
       "      <td>keerthana</td>\n",
       "      <td>23</td>\n",
       "      <td>chennai</td>\n",
       "    </tr>\n",
       "    <tr>\n",
       "      <th>3</th>\n",
       "      <td>hari</td>\n",
       "      <td>22</td>\n",
       "      <td>delhi</td>\n",
       "    </tr>\n",
       "  </tbody>\n",
       "</table>\n",
       "</div>"
      ],
      "text/plain": [
       "        Name  Age Location\n",
       "0  keerthana   23  chennai\n",
       "3       hari   22    delhi"
      ]
     },
     "execution_count": 35,
     "metadata": {},
     "output_type": "execute_result"
    }
   ],
   "source": [
    "df"
   ]
  },
  {
   "cell_type": "code",
   "execution_count": null,
   "id": "c60493ef-efb1-4696-8b10-c8de89dd9030",
   "metadata": {},
   "outputs": [],
   "source": [
    "#import pandas as pd\n",
    "#df = pd.read_csv(\"group.csv\")\n",
    "#group = df.groupby([\"state\",\"city\"])\n",
    "#dc = group[\"people\"].sum()\n",
    "#dc"
   ]
  },
  {
   "cell_type": "code",
   "execution_count": 36,
   "id": "90d0c8d8-2b93-4f0e-8475-ae54fd6425e1",
   "metadata": {},
   "outputs": [
    {
     "data": {
      "text/html": [
       "<div>\n",
       "<style scoped>\n",
       "    .dataframe tbody tr th:only-of-type {\n",
       "        vertical-align: middle;\n",
       "    }\n",
       "\n",
       "    .dataframe tbody tr th {\n",
       "        vertical-align: top;\n",
       "    }\n",
       "\n",
       "    .dataframe thead th {\n",
       "        text-align: right;\n",
       "    }\n",
       "</style>\n",
       "<table border=\"1\" class=\"dataframe\">\n",
       "  <thead>\n",
       "    <tr style=\"text-align: right;\">\n",
       "      <th></th>\n",
       "      <th>category</th>\n",
       "      <th>Quantity</th>\n",
       "    </tr>\n",
       "  </thead>\n",
       "  <tbody>\n",
       "    <tr>\n",
       "      <th>0</th>\n",
       "      <td>groupx</td>\n",
       "      <td>34</td>\n",
       "    </tr>\n",
       "    <tr>\n",
       "      <th>1</th>\n",
       "      <td>groupy</td>\n",
       "      <td>10</td>\n",
       "    </tr>\n",
       "    <tr>\n",
       "      <th>2</th>\n",
       "      <td>groupx</td>\n",
       "      <td>23</td>\n",
       "    </tr>\n",
       "    <tr>\n",
       "      <th>3</th>\n",
       "      <td>groupy</td>\n",
       "      <td>45</td>\n",
       "    </tr>\n",
       "  </tbody>\n",
       "</table>\n",
       "</div>"
      ],
      "text/plain": [
       "  category  Quantity\n",
       "0   groupx        34\n",
       "1   groupy        10\n",
       "2   groupx        23\n",
       "3   groupy        45"
      ]
     },
     "execution_count": 36,
     "metadata": {},
     "output_type": "execute_result"
    }
   ],
   "source": [
    "dcf = {\"category\":[\"groupx\",\"groupy\",\"groupx\",\"groupy\"],\n",
    "       \"Quantity\":[34,10,23,45]}\n",
    "dcf1 = pd.DataFrame(dcf)\n",
    "dcf1"
   ]
  },
  {
   "cell_type": "code",
   "execution_count": 37,
   "id": "1b06d9ad-9989-446d-889c-6d5508c4ab81",
   "metadata": {},
   "outputs": [
    {
     "data": {
      "text/html": [
       "<div>\n",
       "<style scoped>\n",
       "    .dataframe tbody tr th:only-of-type {\n",
       "        vertical-align: middle;\n",
       "    }\n",
       "\n",
       "    .dataframe tbody tr th {\n",
       "        vertical-align: top;\n",
       "    }\n",
       "\n",
       "    .dataframe thead th {\n",
       "        text-align: right;\n",
       "    }\n",
       "</style>\n",
       "<table border=\"1\" class=\"dataframe\">\n",
       "  <thead>\n",
       "    <tr style=\"text-align: right;\">\n",
       "      <th></th>\n",
       "      <th>Quantity</th>\n",
       "    </tr>\n",
       "    <tr>\n",
       "      <th>category</th>\n",
       "      <th></th>\n",
       "    </tr>\n",
       "  </thead>\n",
       "  <tbody>\n",
       "    <tr>\n",
       "      <th>groupx</th>\n",
       "      <td>57</td>\n",
       "    </tr>\n",
       "    <tr>\n",
       "      <th>groupy</th>\n",
       "      <td>55</td>\n",
       "    </tr>\n",
       "  </tbody>\n",
       "</table>\n",
       "</div>"
      ],
      "text/plain": [
       "          Quantity\n",
       "category          \n",
       "groupx          57\n",
       "groupy          55"
      ]
     },
     "execution_count": 37,
     "metadata": {},
     "output_type": "execute_result"
    }
   ],
   "source": [
    "dcf1.groupby(\"category\").sum()"
   ]
  },
  {
   "cell_type": "code",
   "execution_count": 39,
   "id": "8f376d38-d105-4428-98ad-41bc2594aefd",
   "metadata": {},
   "outputs": [],
   "source": [
    "import numpy as np"
   ]
  },
  {
   "cell_type": "code",
   "execution_count": 59,
   "id": "567f1632-dbf7-42d5-8a73-0215195e5e37",
   "metadata": {},
   "outputs": [
    {
     "data": {
      "text/html": [
       "<div>\n",
       "<style scoped>\n",
       "    .dataframe tbody tr th:only-of-type {\n",
       "        vertical-align: middle;\n",
       "    }\n",
       "\n",
       "    .dataframe tbody tr th {\n",
       "        vertical-align: top;\n",
       "    }\n",
       "\n",
       "    .dataframe thead th {\n",
       "        text-align: right;\n",
       "    }\n",
       "</style>\n",
       "<table border=\"1\" class=\"dataframe\">\n",
       "  <thead>\n",
       "    <tr style=\"text-align: right;\">\n",
       "      <th></th>\n",
       "      <th>category1</th>\n",
       "      <th>Quantity1</th>\n",
       "    </tr>\n",
       "  </thead>\n",
       "  <tbody>\n",
       "    <tr>\n",
       "      <th>20</th>\n",
       "      <td>groupx</td>\n",
       "      <td>34</td>\n",
       "    </tr>\n",
       "    <tr>\n",
       "      <th>21</th>\n",
       "      <td>groupy</td>\n",
       "      <td>10</td>\n",
       "    </tr>\n",
       "    <tr>\n",
       "      <th>22</th>\n",
       "      <td>groupx</td>\n",
       "      <td>23</td>\n",
       "    </tr>\n",
       "    <tr>\n",
       "      <th>23</th>\n",
       "      <td>groupy</td>\n",
       "      <td>45</td>\n",
       "    </tr>\n",
       "  </tbody>\n",
       "</table>\n",
       "</div>"
      ],
      "text/plain": [
       "   category1  Quantity1\n",
       "20    groupx         34\n",
       "21    groupy         10\n",
       "22    groupx         23\n",
       "23    groupy         45"
      ]
     },
     "execution_count": 59,
     "metadata": {},
     "output_type": "execute_result"
    }
   ],
   "source": [
    "dcw = {\"category1\":[\"groupx\",\"groupy\",\"groupx\",\"groupy\"],\n",
    "       \"Quantity1\":[34,10,23,45]}\n",
    "sd = pd.DataFrame(dcw, index = [20,21,22,23])\n",
    "sd"
   ]
  },
  {
   "cell_type": "code",
   "execution_count": 51,
   "id": "ee835300-3511-4dd3-8e3f-5ac2cb99c034",
   "metadata": {},
   "outputs": [
    {
     "data": {
      "text/html": [
       "<div>\n",
       "<style scoped>\n",
       "    .dataframe tbody tr th:only-of-type {\n",
       "        vertical-align: middle;\n",
       "    }\n",
       "\n",
       "    .dataframe tbody tr th {\n",
       "        vertical-align: top;\n",
       "    }\n",
       "\n",
       "    .dataframe thead th {\n",
       "        text-align: right;\n",
       "    }\n",
       "</style>\n",
       "<table border=\"1\" class=\"dataframe\">\n",
       "  <thead>\n",
       "    <tr style=\"text-align: right;\">\n",
       "      <th></th>\n",
       "      <th>category1</th>\n",
       "      <th>Quantity1</th>\n",
       "      <th>amount</th>\n",
       "    </tr>\n",
       "  </thead>\n",
       "  <tbody>\n",
       "    <tr>\n",
       "      <th>20</th>\n",
       "      <td>groupx</td>\n",
       "      <td>34</td>\n",
       "      <td>234.0</td>\n",
       "    </tr>\n",
       "    <tr>\n",
       "      <th>21</th>\n",
       "      <td>groupy</td>\n",
       "      <td>10</td>\n",
       "      <td>45.0</td>\n",
       "    </tr>\n",
       "    <tr>\n",
       "      <th>22</th>\n",
       "      <td>groupx</td>\n",
       "      <td>23</td>\n",
       "      <td>654.0</td>\n",
       "    </tr>\n",
       "    <tr>\n",
       "      <th>23</th>\n",
       "      <td>groupy</td>\n",
       "      <td>45</td>\n",
       "      <td>NaN</td>\n",
       "    </tr>\n",
       "  </tbody>\n",
       "</table>\n",
       "</div>"
      ],
      "text/plain": [
       "   category1  Quantity1  amount\n",
       "20    groupx         34   234.0\n",
       "21    groupy         10    45.0\n",
       "22    groupx         23   654.0\n",
       "23    groupy         45     NaN"
      ]
     },
     "execution_count": 51,
     "metadata": {},
     "output_type": "execute_result"
    }
   ],
   "source": [
    "sd[\"amount\"] = [234,45,654,np.nan]\n",
    "sd"
   ]
  },
  {
   "cell_type": "code",
   "execution_count": 45,
   "id": "73f886bd-e167-42a2-989b-22fb80e07414",
   "metadata": {},
   "outputs": [],
   "source": [
    "sd.dropna(axis=1,inplace=True)"
   ]
  },
  {
   "cell_type": "code",
   "execution_count": 49,
   "id": "097774ee-4e41-461a-b650-6ccfbbfee321",
   "metadata": {},
   "outputs": [
    {
     "data": {
      "text/html": [
       "<div>\n",
       "<style scoped>\n",
       "    .dataframe tbody tr th:only-of-type {\n",
       "        vertical-align: middle;\n",
       "    }\n",
       "\n",
       "    .dataframe tbody tr th {\n",
       "        vertical-align: top;\n",
       "    }\n",
       "\n",
       "    .dataframe thead th {\n",
       "        text-align: right;\n",
       "    }\n",
       "</style>\n",
       "<table border=\"1\" class=\"dataframe\">\n",
       "  <thead>\n",
       "    <tr style=\"text-align: right;\">\n",
       "      <th></th>\n",
       "      <th>category1</th>\n",
       "      <th>Quantity1</th>\n",
       "      <th>amount</th>\n",
       "    </tr>\n",
       "  </thead>\n",
       "  <tbody>\n",
       "    <tr>\n",
       "      <th>20</th>\n",
       "      <td>groupx</td>\n",
       "      <td>34</td>\n",
       "      <td>234.0</td>\n",
       "    </tr>\n",
       "    <tr>\n",
       "      <th>21</th>\n",
       "      <td>groupy</td>\n",
       "      <td>10</td>\n",
       "      <td>45.0</td>\n",
       "    </tr>\n",
       "    <tr>\n",
       "      <th>22</th>\n",
       "      <td>groupx</td>\n",
       "      <td>23</td>\n",
       "      <td>654.0</td>\n",
       "    </tr>\n",
       "    <tr>\n",
       "      <th>23</th>\n",
       "      <td>groupy</td>\n",
       "      <td>45</td>\n",
       "      <td>0.0</td>\n",
       "    </tr>\n",
       "  </tbody>\n",
       "</table>\n",
       "</div>"
      ],
      "text/plain": [
       "   category1  Quantity1  amount\n",
       "20    groupx         34   234.0\n",
       "21    groupy         10    45.0\n",
       "22    groupx         23   654.0\n",
       "23    groupy         45     0.0"
      ]
     },
     "execution_count": 49,
     "metadata": {},
     "output_type": "execute_result"
    }
   ],
   "source": [
    "sd.fillna(value=0, inplace= True)\n",
    "sd"
   ]
  },
  {
   "cell_type": "code",
   "execution_count": 52,
   "id": "94ab29cd-d3fe-4da6-b681-1627641af88b",
   "metadata": {},
   "outputs": [
    {
     "data": {
      "text/html": [
       "<div>\n",
       "<style scoped>\n",
       "    .dataframe tbody tr th:only-of-type {\n",
       "        vertical-align: middle;\n",
       "    }\n",
       "\n",
       "    .dataframe tbody tr th {\n",
       "        vertical-align: top;\n",
       "    }\n",
       "\n",
       "    .dataframe thead th {\n",
       "        text-align: right;\n",
       "    }\n",
       "</style>\n",
       "<table border=\"1\" class=\"dataframe\">\n",
       "  <thead>\n",
       "    <tr style=\"text-align: right;\">\n",
       "      <th></th>\n",
       "      <th>category1</th>\n",
       "      <th>Quantity1</th>\n",
       "      <th>amount</th>\n",
       "    </tr>\n",
       "  </thead>\n",
       "  <tbody>\n",
       "    <tr>\n",
       "      <th>20</th>\n",
       "      <td>False</td>\n",
       "      <td>False</td>\n",
       "      <td>False</td>\n",
       "    </tr>\n",
       "    <tr>\n",
       "      <th>21</th>\n",
       "      <td>False</td>\n",
       "      <td>False</td>\n",
       "      <td>False</td>\n",
       "    </tr>\n",
       "    <tr>\n",
       "      <th>22</th>\n",
       "      <td>False</td>\n",
       "      <td>False</td>\n",
       "      <td>False</td>\n",
       "    </tr>\n",
       "    <tr>\n",
       "      <th>23</th>\n",
       "      <td>False</td>\n",
       "      <td>False</td>\n",
       "      <td>True</td>\n",
       "    </tr>\n",
       "  </tbody>\n",
       "</table>\n",
       "</div>"
      ],
      "text/plain": [
       "    category1  Quantity1  amount\n",
       "20      False      False   False\n",
       "21      False      False   False\n",
       "22      False      False   False\n",
       "23      False      False    True"
      ]
     },
     "execution_count": 52,
     "metadata": {},
     "output_type": "execute_result"
    }
   ],
   "source": [
    "sd.isnull() # it will show ham many null value are there by True"
   ]
  },
  {
   "cell_type": "code",
   "execution_count": 54,
   "id": "b7ff075c-5cfe-4a95-b989-4e179872159d",
   "metadata": {},
   "outputs": [
    {
     "data": {
      "text/plain": [
       "array(['groupx', 'groupy'], dtype=object)"
      ]
     },
     "execution_count": 54,
     "metadata": {},
     "output_type": "execute_result"
    }
   ],
   "source": [
    "sd[\"category1\"].unique()"
   ]
  },
  {
   "cell_type": "code",
   "execution_count": 66,
   "id": "047e58a9-36ce-45de-a4b6-66c39743fc68",
   "metadata": {},
   "outputs": [
    {
     "name": "stdout",
     "output_type": "stream",
     "text": [
      "[[0 0]\n",
      " [0 0]]\n",
      "[[0 0]\n",
      " [0 0]]\n",
      "[[0. 0. 0.]\n",
      " [0. 0. 0.]\n",
      " [0. 0. 0.]]\n"
     ]
    }
   ],
   "source": [
    "#create array using Numby\n",
    "s = np.zeros([2,2], dtype = int)\n",
    "s1 = np.zeros([2,2], dtype = int)\n",
    "s2 = np.zeros([3,3])\n",
    "print(s)\n",
    "print(s1)\n",
    "print(s2)"
   ]
  },
  {
   "cell_type": "code",
   "execution_count": 71,
   "id": "03a13f0d-b437-49b1-b4a0-5fc1161b8bfb",
   "metadata": {},
   "outputs": [
    {
     "name": "stdout",
     "output_type": "stream",
     "text": [
      "[50 70 60 70]\n",
      "[50 70 60 70]\n",
      "[51 72 63 74]\n",
      "[50 70 60 70]\n"
     ]
    }
   ],
   "source": [
    "# operation on numpy Array Arithmetic operations add\n",
    "a = np.array([20,30,40,20])\n",
    "b = np.array([30,40,20,50])\n",
    "print(a+b)\n",
    "s1w = np.add(a,b)\n",
    "print(s1w)\n",
    "# add extra array in c\n",
    "c = np.array([1,2,3,4])\n",
    "print(a+b+c)\n",
    "dfc = np.add(a,b,c)\n",
    "print(dfc)"
   ]
  },
  {
   "cell_type": "code",
   "execution_count": 74,
   "id": "6d0e5966-fe9e-431b-b552-8b94897e9bc7",
   "metadata": {},
   "outputs": [
    {
     "data": {
      "text/plain": [
       "array([40, 50, 20, 60])"
      ]
     },
     "execution_count": 74,
     "metadata": {},
     "output_type": "execute_result"
    }
   ],
   "source": [
    "#subtraction\n",
    "a1 = np.array([60,60,40,70])\n",
    "b1 = np.array([20,10,20,10])\n",
    "s2w = np.subtract(a1,b1)\n",
    "s2w\n"
   ]
  },
  {
   "cell_type": "code",
   "execution_count": 76,
   "id": "d36b975c-cbd1-4eb3-b0f8-417587094340",
   "metadata": {},
   "outputs": [
    {
     "data": {
      "text/plain": [
       "array([1200,  600,  800,  700])"
      ]
     },
     "execution_count": 76,
     "metadata": {},
     "output_type": "execute_result"
    }
   ],
   "source": [
    "#multiplication\n",
    "a2 = np.array([60,60,40,70])\n",
    "b2 = np.array([20,10,20,10])\n",
    "s3w = np.multiply(a2,b2)\n",
    "s3w"
   ]
  },
  {
   "cell_type": "code",
   "execution_count": 77,
   "id": "424b1a78-10e4-4901-9f35-fdcf5a06afc8",
   "metadata": {},
   "outputs": [
    {
     "data": {
      "text/plain": [
       "array([3., 6., 2., 7.])"
      ]
     },
     "execution_count": 77,
     "metadata": {},
     "output_type": "execute_result"
    }
   ],
   "source": [
    "#divition\n",
    "a3 = np.array([60,60,40,70])\n",
    "b3 = np.array([20,10,20,10])\n",
    "s4w = np.divide(a3,b3)\n",
    "s4w"
   ]
  },
  {
   "cell_type": "code",
   "execution_count": 83,
   "id": "23dac349-31b0-4a12-be73-f8a9a409877c",
   "metadata": {},
   "outputs": [
    {
     "name": "stdout",
     "output_type": "stream",
     "text": [
      "[10  8  6  4  2]\n"
     ]
    },
    {
     "data": {
      "text/plain": [
       "array([6, 4, 8])"
      ]
     },
     "execution_count": 83,
     "metadata": {},
     "output_type": "execute_result"
    }
   ],
   "source": [
    "#numpy array index Array always start([])\n",
    "a = np.arange(10,1,-2) # start num, end num, steps\n",
    "a\n",
    "b = a[np.array([2,3,-4])]\n",
    "print(a)\n",
    "b"
   ]
  },
  {
   "cell_type": "code",
   "execution_count": 91,
   "id": "0543a00e-1f63-492a-ae3b-26f37a2aa02f",
   "metadata": {},
   "outputs": [
    {
     "name": "stdout",
     "output_type": "stream",
     "text": [
      "[ 0  1  2  3  4  5  6  7  8  9 10 11 12 13 14 15 16 17 18 19]\n",
      "[12 13 14 15 16]\n",
      "[10 11 12 13 14 15 16 17 18 19]\n"
     ]
    }
   ],
   "source": [
    "#numpy array slicing\n",
    "h = np.arange(20)\n",
    "print(h)\n",
    "print(h[-8:17:1]) # start index end index steps\n",
    "print(h[10:])"
   ]
  },
  {
   "cell_type": "code",
   "execution_count": null,
   "id": "e1da88d8-aec3-4dd1-b1b9-a84fdc368e6f",
   "metadata": {},
   "outputs": [],
   "source": [
    "# pandas series one dimensional array dataframe two dimensional array\n"
   ]
  },
  {
   "cell_type": "code",
   "execution_count": 98,
   "id": "6d66b2e1-f564-4a46-bafa-32727e6548d2",
   "metadata": {},
   "outputs": [
    {
     "data": {
      "text/plain": [
       "20    g\n",
       "21    e\n",
       "22    e\n",
       "23    k\n",
       "24    s\n",
       "dtype: object"
      ]
     },
     "execution_count": 98,
     "metadata": {},
     "output_type": "execute_result"
    }
   ],
   "source": [
    "# creating Series in pandas \n",
    "fg = np.array([\"g\",\"e\",\"e\",\"k\",\"s\"])\n",
    "dfc = pd.Series(fg, index =[20,21,22,23,24])\n",
    "dfc"
   ]
  },
  {
   "cell_type": "code",
   "execution_count": 100,
   "id": "135650a1-a1aa-4a79-8f98-b62c92898aea",
   "metadata": {},
   "outputs": [
    {
     "data": {
      "text/html": [
       "<div>\n",
       "<style scoped>\n",
       "    .dataframe tbody tr th:only-of-type {\n",
       "        vertical-align: middle;\n",
       "    }\n",
       "\n",
       "    .dataframe tbody tr th {\n",
       "        vertical-align: top;\n",
       "    }\n",
       "\n",
       "    .dataframe thead th {\n",
       "        text-align: right;\n",
       "    }\n",
       "</style>\n",
       "<table border=\"1\" class=\"dataframe\">\n",
       "  <thead>\n",
       "    <tr style=\"text-align: right;\">\n",
       "      <th></th>\n",
       "      <th>words</th>\n",
       "    </tr>\n",
       "  </thead>\n",
       "  <tbody>\n",
       "    <tr>\n",
       "      <th>20</th>\n",
       "      <td>geek</td>\n",
       "    </tr>\n",
       "    <tr>\n",
       "      <th>21</th>\n",
       "      <td>eight</td>\n",
       "    </tr>\n",
       "    <tr>\n",
       "      <th>22</th>\n",
       "      <td>asd</td>\n",
       "    </tr>\n",
       "    <tr>\n",
       "      <th>23</th>\n",
       "      <td>keertha</td>\n",
       "    </tr>\n",
       "    <tr>\n",
       "      <th>24</th>\n",
       "      <td>seeks</td>\n",
       "    </tr>\n",
       "  </tbody>\n",
       "</table>\n",
       "</div>"
      ],
      "text/plain": [
       "      words\n",
       "20     geek\n",
       "21    eight\n",
       "22      asd\n",
       "23  keertha\n",
       "24    seeks"
      ]
     },
     "execution_count": 100,
     "metadata": {},
     "output_type": "execute_result"
    }
   ],
   "source": [
    "#creating dataframe\n",
    "fg1 = np.array([\"geek\",\"eight\",\"asd\",\"keertha\",\"seeks\"])\n",
    "dfc1 = pd.DataFrame(fg1, index =[20,21,22,23,24],columns = [\"words\"])\n",
    "dfc1"
   ]
  },
  {
   "cell_type": "code",
   "execution_count": null,
   "id": "8ae7b059-2cc6-42de-aa2d-5b6b6a3b456e",
   "metadata": {},
   "outputs": [],
   "source": [
    "# filter dataframe\n",
    "#df.filter([\"column1\",\"column2\",\"column3\"]).head()\n",
    "#head koduththa first 5 row varum"
   ]
  },
  {
   "cell_type": "code",
   "execution_count": 107,
   "id": "05e9fad3-f91f-4388-a9fd-ea51d980671c",
   "metadata": {},
   "outputs": [
    {
     "name": "stdout",
     "output_type": "stream",
     "text": [
      "Original Dataframe\n",
      "     Name  Age    Address Qualification\n",
      "0     jai   27     nagpur           Msc\n",
      "1    anuj   23     Kanpur            MA\n",
      "2     jai   44  Allahabad           mca\n",
      "3  prince   33     Kannuj           bsc\n",
      "After creating Group\n"
     ]
    },
    {
     "data": {
      "text/html": [
       "<div>\n",
       "<style scoped>\n",
       "    .dataframe tbody tr th:only-of-type {\n",
       "        vertical-align: middle;\n",
       "    }\n",
       "\n",
       "    .dataframe tbody tr th {\n",
       "        vertical-align: top;\n",
       "    }\n",
       "\n",
       "    .dataframe thead th {\n",
       "        text-align: right;\n",
       "    }\n",
       "</style>\n",
       "<table border=\"1\" class=\"dataframe\">\n",
       "  <thead>\n",
       "    <tr style=\"text-align: right;\">\n",
       "      <th></th>\n",
       "      <th>Age</th>\n",
       "      <th>Address</th>\n",
       "      <th>Qualification</th>\n",
       "    </tr>\n",
       "    <tr>\n",
       "      <th>Name</th>\n",
       "      <th></th>\n",
       "      <th></th>\n",
       "      <th></th>\n",
       "    </tr>\n",
       "  </thead>\n",
       "  <tbody>\n",
       "    <tr>\n",
       "      <th>anuj</th>\n",
       "      <td>23</td>\n",
       "      <td>Kanpur</td>\n",
       "      <td>MA</td>\n",
       "    </tr>\n",
       "    <tr>\n",
       "      <th>jai</th>\n",
       "      <td>27</td>\n",
       "      <td>nagpur</td>\n",
       "      <td>Msc</td>\n",
       "    </tr>\n",
       "    <tr>\n",
       "      <th>prince</th>\n",
       "      <td>33</td>\n",
       "      <td>Kannuj</td>\n",
       "      <td>bsc</td>\n",
       "    </tr>\n",
       "  </tbody>\n",
       "</table>\n",
       "</div>"
      ],
      "text/plain": [
       "        Age Address Qualification\n",
       "Name                             \n",
       "anuj     23  Kanpur            MA\n",
       "jai      27  nagpur           Msc\n",
       "prince   33  Kannuj           bsc"
      ]
     },
     "execution_count": 107,
     "metadata": {},
     "output_type": "execute_result"
    }
   ],
   "source": [
    "# pandas create Groupby \n",
    "data1 = {\"Name\":[\"jai\",\"anuj\",\"jai\",\"prince\"],\n",
    "         \"Age\":[27,23,44,33],\n",
    "         \"Address\":[\"nagpur\",\"Kanpur\",\"Allahabad\",\"Kannuj\"],\n",
    "         \"Qualification\":[\"Msc\",\"MA\",\"mca\",\"bsc\"]}\n",
    "df1 = pd.DataFrame(data1)\n",
    "sx = df1.groupby(\"Name\")\n",
    "print(\"Original Dataframe\")\n",
    "print(df1)\n",
    "\n",
    "print(\"After creating Group\")\n",
    "sx.first()"
   ]
  },
  {
   "cell_type": "code",
   "execution_count": 109,
   "id": "304abf97-3beb-4684-8660-a7bb5c397078",
   "metadata": {},
   "outputs": [
    {
     "data": {
      "text/plain": [
       "Name\n",
       "anuj      23\n",
       "jai       71\n",
       "prince    33\n",
       "Name: Age, dtype: int64"
      ]
     },
     "execution_count": 109,
     "metadata": {},
     "output_type": "execute_result"
    }
   ],
   "source": [
    "result = sx[\"Age\"].aggregate(\"sum\")\n",
    "result"
   ]
  },
  {
   "cell_type": "code",
   "execution_count": 114,
   "id": "22b85188-51d9-4f37-86bb-73d38548fd4c",
   "metadata": {},
   "outputs": [
    {
     "data": {
      "text/html": [
       "<div>\n",
       "<style scoped>\n",
       "    .dataframe tbody tr th:only-of-type {\n",
       "        vertical-align: middle;\n",
       "    }\n",
       "\n",
       "    .dataframe tbody tr th {\n",
       "        vertical-align: top;\n",
       "    }\n",
       "\n",
       "    .dataframe thead th {\n",
       "        text-align: right;\n",
       "    }\n",
       "</style>\n",
       "<table border=\"1\" class=\"dataframe\">\n",
       "  <thead>\n",
       "    <tr style=\"text-align: right;\">\n",
       "      <th></th>\n",
       "      <th>Key</th>\n",
       "      <th>Name</th>\n",
       "      <th>Age</th>\n",
       "      <th>Key</th>\n",
       "      <th>Address</th>\n",
       "      <th>Qualification</th>\n",
       "    </tr>\n",
       "  </thead>\n",
       "  <tbody>\n",
       "    <tr>\n",
       "      <th>0</th>\n",
       "      <td>Ko</td>\n",
       "      <td>jai</td>\n",
       "      <td>27</td>\n",
       "      <td>Ko</td>\n",
       "      <td>nagpur</td>\n",
       "      <td>Msc</td>\n",
       "    </tr>\n",
       "    <tr>\n",
       "      <th>1</th>\n",
       "      <td>K1</td>\n",
       "      <td>anuj</td>\n",
       "      <td>23</td>\n",
       "      <td>K1</td>\n",
       "      <td>Kanpur</td>\n",
       "      <td>MA</td>\n",
       "    </tr>\n",
       "    <tr>\n",
       "      <th>2</th>\n",
       "      <td>K2</td>\n",
       "      <td>jai</td>\n",
       "      <td>44</td>\n",
       "      <td>K2</td>\n",
       "      <td>Allahabad</td>\n",
       "      <td>mca</td>\n",
       "    </tr>\n",
       "    <tr>\n",
       "      <th>3</th>\n",
       "      <td>K3</td>\n",
       "      <td>prince</td>\n",
       "      <td>33</td>\n",
       "      <td>K3</td>\n",
       "      <td>Kannuj</td>\n",
       "      <td>bsc</td>\n",
       "    </tr>\n",
       "  </tbody>\n",
       "</table>\n",
       "</div>"
      ],
      "text/plain": [
       "  Key    Name  Age Key    Address Qualification\n",
       "0  Ko     jai   27  Ko     nagpur           Msc\n",
       "1  K1    anuj   23  K1     Kanpur            MA\n",
       "2  K2     jai   44  K2  Allahabad           mca\n",
       "3  K3  prince   33  K3     Kannuj           bsc"
      ]
     },
     "execution_count": 114,
     "metadata": {},
     "output_type": "execute_result"
    }
   ],
   "source": [
    "#create dataframe with concat\n",
    "fg = {\"Key\":[\"Ko\",\"K1\",\"K2\",\"K3\"],\n",
    "       \"Name\":[\"jai\",\"anuj\",\"jai\",\"prince\"],\n",
    "         \"Age\":[27,23,44,33]}\n",
    "fg1 = {\"Key\":[\"Ko\",\"K1\",\"K2\",\"K3\"],\n",
    "       \"Address\":[\"nagpur\",\"Kanpur\",\"Allahabad\",\"Kannuj\"],\n",
    "         \"Qualification\":[\"Msc\",\"MA\",\"mca\",\"bsc\"]}\n",
    "sdx = pd.DataFrame(fg)\n",
    "sdx1 = pd.DataFrame(fg1)\n",
    "dc = pd.concat([sdx,sdx1],axis=1)#concat use pannumpothu bracket open pannanum\n",
    "dc"
   ]
  },
  {
   "cell_type": "code",
   "execution_count": 121,
   "id": "952c0369-5f02-40ba-a277-bbba89305df3",
   "metadata": {},
   "outputs": [
    {
     "data": {
      "text/html": [
       "<div>\n",
       "<style scoped>\n",
       "    .dataframe tbody tr th:only-of-type {\n",
       "        vertical-align: middle;\n",
       "    }\n",
       "\n",
       "    .dataframe tbody tr th {\n",
       "        vertical-align: top;\n",
       "    }\n",
       "\n",
       "    .dataframe thead th {\n",
       "        text-align: right;\n",
       "    }\n",
       "</style>\n",
       "<table border=\"1\" class=\"dataframe\">\n",
       "  <thead>\n",
       "    <tr style=\"text-align: right;\">\n",
       "      <th></th>\n",
       "      <th>Name</th>\n",
       "      <th>Age</th>\n",
       "      <th>Address</th>\n",
       "      <th>Qualification</th>\n",
       "    </tr>\n",
       "  </thead>\n",
       "  <tbody>\n",
       "    <tr>\n",
       "      <th>0</th>\n",
       "      <td>jai</td>\n",
       "      <td>27</td>\n",
       "      <td>nagpur</td>\n",
       "      <td>Msc</td>\n",
       "    </tr>\n",
       "    <tr>\n",
       "      <th>1</th>\n",
       "      <td>anuj</td>\n",
       "      <td>23</td>\n",
       "      <td>Kanpur</td>\n",
       "      <td>MA</td>\n",
       "    </tr>\n",
       "    <tr>\n",
       "      <th>2</th>\n",
       "      <td>jai</td>\n",
       "      <td>44</td>\n",
       "      <td>Allahabad</td>\n",
       "      <td>mca</td>\n",
       "    </tr>\n",
       "    <tr>\n",
       "      <th>3</th>\n",
       "      <td>prince</td>\n",
       "      <td>33</td>\n",
       "      <td>Kannuj</td>\n",
       "      <td>bsc</td>\n",
       "    </tr>\n",
       "  </tbody>\n",
       "</table>\n",
       "</div>"
      ],
      "text/plain": [
       "     Name  Age    Address Qualification\n",
       "0     jai   27     nagpur           Msc\n",
       "1    anuj   23     Kanpur            MA\n",
       "2     jai   44  Allahabad           mca\n",
       "3  prince   33     Kannuj           bsc"
      ]
     },
     "execution_count": 121,
     "metadata": {},
     "output_type": "execute_result"
    }
   ],
   "source": [
    "# delete particular column using column name\n",
    "#df = df.loc[:,~df.columns.duplicated()] keep only first unique column\n",
    "# two column duplicate ta iruntha\n",
    "dc.drop(columns=\"Key\")"
   ]
  },
  {
   "cell_type": "code",
   "execution_count": 117,
   "id": "db726e43-f50b-4693-88ec-7eb923ad5e3c",
   "metadata": {},
   "outputs": [
    {
     "data": {
      "text/html": [
       "<div>\n",
       "<style scoped>\n",
       "    .dataframe tbody tr th:only-of-type {\n",
       "        vertical-align: middle;\n",
       "    }\n",
       "\n",
       "    .dataframe tbody tr th {\n",
       "        vertical-align: top;\n",
       "    }\n",
       "\n",
       "    .dataframe thead th {\n",
       "        text-align: right;\n",
       "    }\n",
       "</style>\n",
       "<table border=\"1\" class=\"dataframe\">\n",
       "  <thead>\n",
       "    <tr style=\"text-align: right;\">\n",
       "      <th></th>\n",
       "      <th>Key</th>\n",
       "      <th>Name</th>\n",
       "      <th>Age</th>\n",
       "      <th>Address</th>\n",
       "      <th>Qualification</th>\n",
       "    </tr>\n",
       "  </thead>\n",
       "  <tbody>\n",
       "    <tr>\n",
       "      <th>0</th>\n",
       "      <td>Ko</td>\n",
       "      <td>jai</td>\n",
       "      <td>27</td>\n",
       "      <td>nagpur</td>\n",
       "      <td>Msc</td>\n",
       "    </tr>\n",
       "    <tr>\n",
       "      <th>1</th>\n",
       "      <td>K1</td>\n",
       "      <td>anuj</td>\n",
       "      <td>23</td>\n",
       "      <td>Kanpur</td>\n",
       "      <td>MA</td>\n",
       "    </tr>\n",
       "    <tr>\n",
       "      <th>2</th>\n",
       "      <td>K2</td>\n",
       "      <td>jai</td>\n",
       "      <td>44</td>\n",
       "      <td>Allahabad</td>\n",
       "      <td>mca</td>\n",
       "    </tr>\n",
       "    <tr>\n",
       "      <th>3</th>\n",
       "      <td>K3</td>\n",
       "      <td>prince</td>\n",
       "      <td>33</td>\n",
       "      <td>Kannuj</td>\n",
       "      <td>bsc</td>\n",
       "    </tr>\n",
       "  </tbody>\n",
       "</table>\n",
       "</div>"
      ],
      "text/plain": [
       "  Key    Name  Age    Address Qualification\n",
       "0  Ko     jai   27     nagpur           Msc\n",
       "1  K1    anuj   23     Kanpur            MA\n",
       "2  K2     jai   44  Allahabad           mca\n",
       "3  K3  prince   33     Kannuj           bsc"
      ]
     },
     "execution_count": 117,
     "metadata": {},
     "output_type": "execute_result"
    }
   ],
   "source": [
    "# creating dataframe merge two dataset\n",
    "fg1 = {\"Key\":[\"Ko\",\"K1\",\"K2\",\"K3\"],\n",
    "       \"Name\":[\"jai\",\"anuj\",\"jai\",\"prince\"],\n",
    "         \"Age\":[27,23,44,33]}\n",
    "fg2 = {\"Key\":[\"Ko\",\"K1\",\"K2\",\"K3\"],\n",
    "       \"Address\":[\"nagpur\",\"Kanpur\",\"Allahabad\",\"Kannuj\"],\n",
    "         \"Qualification\":[\"Msc\",\"MA\",\"mca\",\"bsc\"]}\n",
    "sdx1 = pd.DataFrame(fg1)\n",
    "sdx2 = pd.DataFrame(fg2)\n",
    "dc1 = pd.merge(sdx1,sdx2, on=\"Key\") #key unique id that's why on mention \"Key\"\n",
    "dc1"
   ]
  },
  {
   "cell_type": "code",
   "execution_count": null,
   "id": "3fbeca18-76e3-409b-aa8b-b9fe07abe107",
   "metadata": {},
   "outputs": [],
   "source": []
  },
  {
   "cell_type": "code",
   "execution_count": null,
   "id": "d26c78cb-de71-4d68-9813-8e3431732898",
   "metadata": {},
   "outputs": [],
   "source": [
    "#data = df.drop_duplicates(subset=\"column_name\")\n",
    "#data\n",
    "#df.isnull().sum() value va kaatum like integer\n",
    "#df.shape"
   ]
  },
  {
   "cell_type": "code",
   "execution_count": null,
   "id": "b97f59a5-00f1-4ac5-8ebe-543c88133622",
   "metadata": {},
   "outputs": [],
   "source": [
    "# create dataframe using join function\n"
   ]
  },
  {
   "cell_type": "code",
   "execution_count": 120,
   "id": "945b2699-f259-43b6-a80b-8390533b5fd0",
   "metadata": {},
   "outputs": [
    {
     "data": {
      "text/html": [
       "<div>\n",
       "<style scoped>\n",
       "    .dataframe tbody tr th:only-of-type {\n",
       "        vertical-align: middle;\n",
       "    }\n",
       "\n",
       "    .dataframe tbody tr th {\n",
       "        vertical-align: top;\n",
       "    }\n",
       "\n",
       "    .dataframe thead th {\n",
       "        text-align: right;\n",
       "    }\n",
       "</style>\n",
       "<table border=\"1\" class=\"dataframe\">\n",
       "  <thead>\n",
       "    <tr style=\"text-align: right;\">\n",
       "      <th></th>\n",
       "      <th>Name</th>\n",
       "      <th>Age</th>\n",
       "      <th>Address</th>\n",
       "      <th>Qualification</th>\n",
       "    </tr>\n",
       "  </thead>\n",
       "  <tbody>\n",
       "    <tr>\n",
       "      <th>Ko</th>\n",
       "      <td>jai</td>\n",
       "      <td>27</td>\n",
       "      <td>nagpur</td>\n",
       "      <td>Msc</td>\n",
       "    </tr>\n",
       "    <tr>\n",
       "      <th>K1</th>\n",
       "      <td>anuj</td>\n",
       "      <td>23</td>\n",
       "      <td>Kanpur</td>\n",
       "      <td>MA</td>\n",
       "    </tr>\n",
       "    <tr>\n",
       "      <th>K2</th>\n",
       "      <td>jai</td>\n",
       "      <td>44</td>\n",
       "      <td>Allahabad</td>\n",
       "      <td>mca</td>\n",
       "    </tr>\n",
       "    <tr>\n",
       "      <th>K3</th>\n",
       "      <td>prince</td>\n",
       "      <td>33</td>\n",
       "      <td>Kannuj</td>\n",
       "      <td>bsc</td>\n",
       "    </tr>\n",
       "  </tbody>\n",
       "</table>\n",
       "</div>"
      ],
      "text/plain": [
       "      Name  Age    Address Qualification\n",
       "Ko     jai   27     nagpur           Msc\n",
       "K1    anuj   23     Kanpur            MA\n",
       "K2     jai   44  Allahabad           mca\n",
       "K3  prince   33     Kannuj           bsc"
      ]
     },
     "execution_count": 120,
     "metadata": {},
     "output_type": "execute_result"
    }
   ],
   "source": [
    "#create dataframe using join\n",
    "zs = {\"Name\":[\"jai\",\"anuj\",\"jai\",\"prince\"],\n",
    "         \"Age\":[27,23,44,33]}\n",
    "zs1 = {\"Address\":[\"nagpur\",\"Kanpur\",\"Allahabad\",\"Kannuj\"],\n",
    "         \"Qualification\":[\"Msc\",\"MA\",\"mca\",\"bsc\"]}\n",
    "zc = pd.DataFrame(zs,index=[\"Ko\",\"K1\",\"K2\",\"K3\"])\n",
    "zc1 = pd.DataFrame(zs1,index=[\"Ko\",\"K1\",\"K2\",\"K3\"])\n",
    "cf = zc.join(zc1)\n",
    "cf"
   ]
  },
  {
   "cell_type": "code",
   "execution_count": null,
   "id": "af37b935-e84d-4c6f-a04e-2a846ad358bc",
   "metadata": {},
   "outputs": [],
   "source": []
  },
  {
   "cell_type": "code",
   "execution_count": null,
   "id": "faa0f192-0bd2-49b4-85c1-455d99fbef21",
   "metadata": {},
   "outputs": [],
   "source": []
  }
 ],
 "metadata": {
  "kernelspec": {
   "display_name": "anaconda-ai-2024.04-py310",
   "language": "python",
   "name": "conda-env-anaconda-ai-2024.04-py310-py"
  },
  "language_info": {
   "codemirror_mode": {
    "name": "ipython",
    "version": 3
   },
   "file_extension": ".py",
   "mimetype": "text/x-python",
   "name": "python",
   "nbconvert_exporter": "python",
   "pygments_lexer": "ipython3",
   "version": "3.10.13"
  }
 },
 "nbformat": 4,
 "nbformat_minor": 5
}
