{
 "cells": [
  {
   "cell_type": "code",
   "execution_count": 1,
   "id": "71a5f113",
   "metadata": {},
   "outputs": [],
   "source": [
    "# Empty class it will pass without method\n",
    "class car:\n",
    "    pass"
   ]
  },
  {
   "cell_type": "code",
   "execution_count": 4,
   "id": "bfb33488",
   "metadata": {},
   "outputs": [],
   "source": [
    "car1 = car()"
   ]
  },
  {
   "cell_type": "code",
   "execution_count": 5,
   "id": "135ad479",
   "metadata": {},
   "outputs": [
    {
     "data": {
      "text/plain": [
       "<__main__.car at 0x207d0618070>"
      ]
     },
     "execution_count": 5,
     "metadata": {},
     "output_type": "execute_result"
    }
   ],
   "source": [
    "car1"
   ]
  },
  {
   "cell_type": "code",
   "execution_count": 23,
   "id": "8cbc7954",
   "metadata": {},
   "outputs": [],
   "source": [
    "class car:\n",
    "    base_price = 100000\n",
    "    def __init__(self,windows,doors,engine,gears):\n",
    "        self.windows = windows\n",
    "        self.doors = doors\n",
    "        self.engine = engine\n",
    "        self.gears = gears\n",
    "    def drive(self):\n",
    "        print(\"person to drive\")\n",
    "    def isauto(self):\n",
    "        if (self.gears == \"traditional\"):\n",
    "            print(\"it is not automatic\")\n",
    "    \n",
    "    @classmethod        \n",
    "    def updated_base_price(cls,inflation):\n",
    "        cls.base_price = cls.base_price+inflation * cls.base_price\n",
    "            \n",
    "            \n",
    "    "
   ]
  },
  {
   "cell_type": "code",
   "execution_count": 28,
   "id": "ffc42047",
   "metadata": {},
   "outputs": [
    {
     "data": {
      "text/plain": [
       "172800.0"
      ]
     },
     "execution_count": 28,
     "metadata": {},
     "output_type": "execute_result"
    }
   ],
   "source": [
    "car.base_price"
   ]
  },
  {
   "cell_type": "code",
   "execution_count": 29,
   "id": "8ca6c594",
   "metadata": {},
   "outputs": [],
   "source": [
    "car1.updated_base_price(0.10)"
   ]
  },
  {
   "cell_type": "code",
   "execution_count": 25,
   "id": "28f78b81",
   "metadata": {},
   "outputs": [],
   "source": [
    "# car1 car() ithuku keela updated_base_price kodukunum\n",
    "car1 = car(5,4,\"petrol\",\"auto\")\n",
    "car1.updated_base_price(0.20)"
   ]
  },
  {
   "cell_type": "code",
   "execution_count": 27,
   "id": "40f5a930",
   "metadata": {},
   "outputs": [],
   "source": [
    "car1.updated_base_price(0.20)"
   ]
  },
  {
   "cell_type": "code",
   "execution_count": 51,
   "id": "836e7771",
   "metadata": {},
   "outputs": [],
   "source": [
    "class student:\n",
    "    pass"
   ]
  },
  {
   "cell_type": "code",
   "execution_count": 52,
   "id": "81a92d2a",
   "metadata": {},
   "outputs": [],
   "source": [
    "stud = student()"
   ]
  },
  {
   "cell_type": "code",
   "execution_count": 53,
   "id": "e21e83aa",
   "metadata": {},
   "outputs": [],
   "source": [
    "from datetime import date"
   ]
  },
  {
   "cell_type": "code",
   "execution_count": 65,
   "id": "ba40770d",
   "metadata": {},
   "outputs": [],
   "source": [
    "class student:\n",
    "    def __init__(self,name,rollno,dob,city):\n",
    "        self.name = name\n",
    "        self.rollno = rollno\n",
    "        self.dob = dob\n",
    "        self.city = city\n",
    "    def address(self):\n",
    "        s = f\"name : {self.name}\\nrollno : {self.rollno}\\nself.dob : {self.dob}\\nself.city : {self.city}\"\n",
    "        return s\n",
    "    def age(self):\n",
    "        current_year = date.today().year\n",
    "        return current_year - self.dob\n"
   ]
  },
  {
   "cell_type": "code",
   "execution_count": 66,
   "id": "5d55b11a",
   "metadata": {},
   "outputs": [
    {
     "data": {
      "text/plain": [
       "<__main__.student at 0x207d1739790>"
      ]
     },
     "execution_count": 66,
     "metadata": {},
     "output_type": "execute_result"
    }
   ],
   "source": [
    "stud1 = student(\"sathish\",102,1996,\"chennai\")\n",
    "stud1"
   ]
  },
  {
   "cell_type": "code",
   "execution_count": 67,
   "id": "68fc6cef",
   "metadata": {},
   "outputs": [
    {
     "name": "stdout",
     "output_type": "stream",
     "text": [
      "name : sathish\n",
      "rollno : 102\n",
      "self.dob : 1996\n",
      "self.city : chennai\n"
     ]
    }
   ],
   "source": [
    "print(stud1.address())"
   ]
  },
  {
   "cell_type": "code",
   "execution_count": 68,
   "id": "b8312766",
   "metadata": {},
   "outputs": [
    {
     "name": "stdout",
     "output_type": "stream",
     "text": [
      "26\n"
     ]
    }
   ],
   "source": [
    "print(stud1.age())"
   ]
  },
  {
   "cell_type": "code",
   "execution_count": 3,
   "id": "5bb23433",
   "metadata": {},
   "outputs": [],
   "source": [
    "class car:\n",
    "    def __init__(self,doors,windows,enginetype,geartype):\n",
    "        self.doors = doors\n",
    "        self.windows = windows\n",
    "        self.enginetype = enginetype\n",
    "        self.geartype = geartype\n",
    "    def compare(self,other):\n",
    "        if (self.enginetype == other.enginetype):\n",
    "            print(same)\n",
    "        else:\n",
    "            print(\"difference\")\n",
    "        "
   ]
  },
  {
   "cell_type": "code",
   "execution_count": null,
   "id": "4cd6c55d",
   "metadata": {},
   "outputs": [],
   "source": []
  },
  {
   "cell_type": "code",
   "execution_count": 4,
   "id": "044351fa",
   "metadata": {},
   "outputs": [
    {
     "data": {
      "text/plain": [
       "<__main__.car at 0x15ca0d3e1f0>"
      ]
     },
     "execution_count": 4,
     "metadata": {},
     "output_type": "execute_result"
    }
   ],
   "source": [
    "car1 = car(4,5,\"petrol\",\"auto\")\n",
    "car2 = car(4,5,\"diesel\",\"auto\")\n",
    "car1"
   ]
  },
  {
   "cell_type": "code",
   "execution_count": 7,
   "id": "2e272950",
   "metadata": {},
   "outputs": [
    {
     "name": "stdout",
     "output_type": "stream",
     "text": [
      "difference\n"
     ]
    }
   ],
   "source": [
    "car2.compare(car1)"
   ]
  },
  {
   "cell_type": "code",
   "execution_count": 8,
   "id": "80c0f6a1",
   "metadata": {},
   "outputs": [
    {
     "data": {
      "text/plain": [
       "['__class__',\n",
       " '__delattr__',\n",
       " '__dict__',\n",
       " '__dir__',\n",
       " '__doc__',\n",
       " '__eq__',\n",
       " '__format__',\n",
       " '__ge__',\n",
       " '__getattribute__',\n",
       " '__gt__',\n",
       " '__hash__',\n",
       " '__init__',\n",
       " '__init_subclass__',\n",
       " '__le__',\n",
       " '__lt__',\n",
       " '__module__',\n",
       " '__ne__',\n",
       " '__new__',\n",
       " '__reduce__',\n",
       " '__reduce_ex__',\n",
       " '__repr__',\n",
       " '__setattr__',\n",
       " '__sizeof__',\n",
       " '__str__',\n",
       " '__subclasshook__',\n",
       " '__weakref__',\n",
       " 'compare',\n",
       " 'doors',\n",
       " 'enginetype',\n",
       " 'geartype',\n",
       " 'windows']"
      ]
     },
     "execution_count": 8,
     "metadata": {},
     "output_type": "execute_result"
    }
   ],
   "source": [
    "#dir use to see function\n",
    "dir(car2)"
   ]
  },
  {
   "cell_type": "code",
   "execution_count": 34,
   "id": "41957131",
   "metadata": {},
   "outputs": [],
   "source": [
    "#staticmethod use to create description\n",
    "class student:\n",
    "    school = \"fita\"\n",
    "    \n",
    "    def __init__(self,name,rollno,):\n",
    "        self.name = name\n",
    "        self.rollno = rollno\n",
    "    def address(self):\n",
    "        addr = f\"name : {self.name}\\n rollno : {self.rollno}\"\n",
    "        return addr\n",
    "        \n",
    "    @staticmethod\n",
    "    def info(self):\n",
    "        print(\"This is student class. school name is fita\")\n",
    "        \n",
    "    "
   ]
  },
  {
   "cell_type": "code",
   "execution_count": 31,
   "id": "729ae98b",
   "metadata": {},
   "outputs": [],
   "source": [
    "s1 = student(\"suresh\",102)\n",
    "s2 = student(\"siva\",103)"
   ]
  },
  {
   "cell_type": "code",
   "execution_count": 35,
   "id": "1ba64308",
   "metadata": {},
   "outputs": [],
   "source": [
    "s2 = student(\"siva\",103)"
   ]
  },
  {
   "cell_type": "code",
   "execution_count": 36,
   "id": "7b163ab6",
   "metadata": {},
   "outputs": [
    {
     "name": "stdout",
     "output_type": "stream",
     "text": [
      "name : siva\n",
      " rollno : 103\n"
     ]
    }
   ],
   "source": [
    "print(s2.address())"
   ]
  },
  {
   "cell_type": "code",
   "execution_count": 62,
   "id": "9a3e70b5",
   "metadata": {},
   "outputs": [],
   "source": [
    "# always create class first letter capital\n",
    "class Tutorial:\n",
    "    \n",
    "    def __init__(self,name,rollno):\n",
    "        self.name = name\n",
    "        self.rollno = rollno\n",
    "        self.laptop = Laptop()\n",
    "        \n",
    "    def show(self):\n",
    "        print(self.name,self.rollno)\n",
    "        print(self.laptop.show())\n",
    "        \n",
    "    class Laptop:\n",
    "        def __init__(self):\n",
    "            self.brand = \"hp\"\n",
    "            self.cpu = i5\n",
    "            self.ram = 12\n",
    "            \n",
    "        def show(self):\n",
    "            return (self.brand, self.cpu, self.ram)"
   ]
  },
  {
   "cell_type": "code",
   "execution_count": null,
   "id": "257ef07f",
   "metadata": {},
   "outputs": [],
   "source": [
    "\n"
   ]
  },
  {
   "cell_type": "code",
   "execution_count": null,
   "id": "0ab38a7c",
   "metadata": {},
   "outputs": [],
   "source": []
  },
  {
   "cell_type": "code",
   "execution_count": 65,
   "id": "34ffe016",
   "metadata": {},
   "outputs": [],
   "source": [
    "class Student:\n",
    "    school = \"FITA\"\n",
    "    \n",
    "    def __init__(self, name, rollno):\n",
    "        self.name = name \n",
    "        self.rollno = rollno\n",
    "        self.laptop = self.Laptop()\n",
    "        \n",
    "    def show(self):\n",
    "        print(self.name, self.rollno)\n",
    "        print(self.laptop.show())\n",
    "        \n",
    "    class Laptop:\n",
    "        \n",
    "        def __init__(self):\n",
    "            self.brand = \"HP\"\n",
    "            self.cpu = \"i5\"\n",
    "            self.ram = 8 \n",
    "            \n",
    "        def show(self):\n",
    "            return(self.brand, self.cpu, self.ram)"
   ]
  },
  {
   "cell_type": "code",
   "execution_count": 67,
   "id": "bc1594f5",
   "metadata": {},
   "outputs": [
    {
     "data": {
      "text/plain": [
       "<__main__.Student at 0x15ca18dae20>"
      ]
     },
     "execution_count": 67,
     "metadata": {},
     "output_type": "execute_result"
    }
   ],
   "source": [
    "s3 = Student(\"geetha\",102)\n",
    "s3"
   ]
  },
  {
   "cell_type": "code",
   "execution_count": 69,
   "id": "b6e53103",
   "metadata": {},
   "outputs": [
    {
     "data": {
      "text/plain": [
       "'geetha'"
      ]
     },
     "execution_count": 69,
     "metadata": {},
     "output_type": "execute_result"
    }
   ],
   "source": [
    "s3.name"
   ]
  },
  {
   "cell_type": "code",
   "execution_count": 71,
   "id": "7fa612e0",
   "metadata": {},
   "outputs": [
    {
     "name": "stdout",
     "output_type": "stream",
     "text": [
      "geetha 102\n",
      "('HP', 'i5', 8)\n"
     ]
    }
   ],
   "source": [
    "s3.show()"
   ]
  },
  {
   "cell_type": "code",
   "execution_count": 88,
   "id": "8473b8b5",
   "metadata": {},
   "outputs": [],
   "source": [
    "#calssmethod class ku update kodukka use aakuthu\n",
    "#staticmethod description ku use aakuthu\n",
    "class Cars:\n",
    "    wheels = 4\n",
    "    def __init__(self):\n",
    "        self.mil = 10\n",
    "        self.company = \"Audi\"\n",
    "        self.geartype = \"auto\"\n",
    "    def isauto(self):\n",
    "        if(self.geartype == \"traditional\"):\n",
    "            print(\"car is not auto gear\")\n",
    "        else:\n",
    "            print(\"car is auto\")\n",
    "            \n",
    "    @classmethod\n",
    "    def update(cls):\n",
    "        print(\"wheels:\", cls.wheels)\n",
    "        \n",
    "        "
   ]
  },
  {
   "cell_type": "code",
   "execution_count": 90,
   "id": "a4f086b2",
   "metadata": {},
   "outputs": [],
   "source": [
    "car4 = Cars()"
   ]
  },
  {
   "cell_type": "code",
   "execution_count": 91,
   "id": "ca48bdb1",
   "metadata": {},
   "outputs": [
    {
     "data": {
      "text/plain": [
       "(10, 'Audi', 'auto')"
      ]
     },
     "execution_count": 91,
     "metadata": {},
     "output_type": "execute_result"
    }
   ],
   "source": [
    "car4.mil, car4.company, car4.geartype"
   ]
  },
  {
   "cell_type": "code",
   "execution_count": 92,
   "id": "4d29cc53",
   "metadata": {},
   "outputs": [
    {
     "name": "stdout",
     "output_type": "stream",
     "text": [
      "wheels: 4\n"
     ]
    }
   ],
   "source": [
    "car4.update()"
   ]
  },
  {
   "cell_type": "code",
   "execution_count": null,
   "id": "c2ac335b",
   "metadata": {},
   "outputs": [],
   "source": []
  },
  {
   "cell_type": "code",
   "execution_count": null,
   "id": "563a7af5",
   "metadata": {},
   "outputs": [],
   "source": []
  },
  {
   "cell_type": "code",
   "execution_count": null,
   "id": "cdefbf9f",
   "metadata": {},
   "outputs": [],
   "source": []
  }
 ],
 "metadata": {
  "kernelspec": {
   "display_name": "Python 3 (ipykernel)",
   "language": "python",
   "name": "python3"
  },
  "language_info": {
   "codemirror_mode": {
    "name": "ipython",
    "version": 3
   },
   "file_extension": ".py",
   "mimetype": "text/x-python",
   "name": "python",
   "nbconvert_exporter": "python",
   "pygments_lexer": "ipython3",
   "version": "3.9.12"
  }
 },
 "nbformat": 4,
 "nbformat_minor": 5
}
